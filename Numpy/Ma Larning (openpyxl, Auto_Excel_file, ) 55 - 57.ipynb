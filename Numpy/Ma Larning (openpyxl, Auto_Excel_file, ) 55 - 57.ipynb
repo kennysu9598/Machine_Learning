{
 "cells": [
  {
   "cell_type": "markdown",
   "metadata": {},
   "source": [
    "## openpyxl"
   ]
  },
  {
   "cell_type": "code",
   "execution_count": 19,
   "metadata": {},
   "outputs": [],
   "source": [
    "# 自动完成excel 的工作\n",
    "# C:\\Users\\kenny\\Desktop\\DQ work\\Machine Learning\\Numpy 里面的文件excel file"
   ]
  },
  {
   "cell_type": "code",
   "execution_count": 1,
   "metadata": {},
   "outputs": [],
   "source": [
    "import openpyxl as xl"
   ]
  },
  {
   "cell_type": "code",
   "execution_count": 2,
   "metadata": {},
   "outputs": [],
   "source": [
    "wb = xl.load_workbook(\"Transaction.xlsx\")"
   ]
  },
  {
   "cell_type": "code",
   "execution_count": 3,
   "metadata": {},
   "outputs": [],
   "source": [
    "sheet = wb[\"Sheet 1\"]"
   ]
  },
  {
   "cell_type": "code",
   "execution_count": 4,
   "metadata": {},
   "outputs": [],
   "source": [
    "cell = sheet[\"B5\"]"
   ]
  },
  {
   "cell_type": "code",
   "execution_count": 5,
   "metadata": {},
   "outputs": [
    {
     "name": "stdout",
     "output_type": "stream",
     "text": [
      "102\n"
     ]
    }
   ],
   "source": [
    "print(cell.value)"
   ]
  },
  {
   "cell_type": "code",
   "execution_count": 6,
   "metadata": {},
   "outputs": [
    {
     "name": "stdout",
     "output_type": "stream",
     "text": [
      "23\n"
     ]
    }
   ],
   "source": [
    "print(sheet.max_row)"
   ]
  },
  {
   "cell_type": "code",
   "execution_count": 9,
   "metadata": {},
   "outputs": [
    {
     "name": "stdout",
     "output_type": "stream",
     "text": [
      "Help on method cell in module openpyxl.worksheet.worksheet:\n",
      "\n",
      "cell(row, column, value=None) method of openpyxl.worksheet.worksheet.Worksheet instance\n",
      "    Returns a cell object based on the given coordinates.\n",
      "    \n",
      "    Usage: cell(row=15, column=1, value=5)\n",
      "    \n",
      "    Calling `cell` creates cells in memory when they\n",
      "    are first accessed.\n",
      "    \n",
      "    :param row: row index of the cell (e.g. 4)\n",
      "    :type row: int\n",
      "    \n",
      "    :param column: column index of the cell (e.g. 3)\n",
      "    :type column: int\n",
      "    \n",
      "    :param value: value of the cell (e.g. 5)\n",
      "    :type value: numeric or time or string or bool or none\n",
      "    \n",
      "    :rtype: openpyxl.cell.cell.Cell\n",
      "\n"
     ]
    }
   ],
   "source": [
    "help(sheet.cell)"
   ]
  },
  {
   "cell_type": "code",
   "execution_count": 16,
   "metadata": {},
   "outputs": [
    {
     "name": "stdout",
     "output_type": "stream",
     "text": [
      "461.63\n",
      "1098.81\n",
      "62.72\n",
      "None\n",
      "None\n",
      "None\n",
      "None\n",
      "None\n",
      "None\n",
      "None\n",
      "None\n",
      "None\n",
      "None\n",
      "None\n",
      "None\n",
      "None\n",
      "None\n",
      "None\n",
      "None\n",
      "None\n"
     ]
    }
   ],
   "source": [
    "for row in range (4,sheet.max_row + 1 ): # range is n to n-1 \n",
    "    cell = sheet.cell(row,4)\n",
    "    print(cell.value)\n"
   ]
  },
  {
   "cell_type": "code",
   "execution_count": 18,
   "metadata": {},
   "outputs": [
    {
     "name": "stdout",
     "output_type": "stream",
     "text": [
      "461.63\n",
      "1098.81\n",
      "62.72\n"
     ]
    }
   ],
   "source": [
    "for row in range (4,sheet.max_row + 1 ): # range is n to n-1 \n",
    "    cell = sheet.cell(row,4)\n",
    "    if cell.value != None:\n",
    "        print(cell.value)\n"
   ]
  },
  {
   "cell_type": "code",
   "execution_count": 22,
   "metadata": {},
   "outputs": [],
   "source": [
    "for row in range (4,sheet.max_row + 1 ): # range is n to n-1 \n",
    "    cell = sheet.cell(row,4)\n",
    "    if cell.value != None:\n",
    "        corrected_price = cell.value * 0.9\n",
    "        corrected_price_cell = sheet.cell(row,5)\n",
    "        corrected_price_cell.value = corrected_price\n"
   ]
  },
  {
   "cell_type": "code",
   "execution_count": 23,
   "metadata": {},
   "outputs": [],
   "source": [
    "wb.save(\"Transaction2.xlsx\")"
   ]
  },
  {
   "cell_type": "code",
   "execution_count": 24,
   "metadata": {},
   "outputs": [],
   "source": [
    "import openpyxl as xl\n",
    "for row in range (4,sheet.max_row + 1 ): # range is n to n-1 \n",
    "    cell = sheet.cell(row,4)\n",
    "    if cell.value != None:\n",
    "        corrected_price = cell.value * 0.9\n",
    "        corrected_price_cell = sheet.cell(row,5)\n",
    "        corrected_price_cell.value = corrected_price\n",
    "wb.save(\"Transaction2.xlsx\")"
   ]
  },
  {
   "cell_type": "code",
   "execution_count": 25,
   "metadata": {},
   "outputs": [],
   "source": [
    "# 完成第一个阶段"
   ]
  },
  {
   "cell_type": "code",
   "execution_count": 15,
   "metadata": {},
   "outputs": [],
   "source": [
    "import openpyxl as xl\n",
    "from openpyxl.chart import BarChart, Reference\n",
    "wb = xl.load_workbook(\"Transaction.xlsx\")\n",
    "sheet = wb[\"Sheet 1\"]\n",
    "available_row = 0\n",
    "for row in range (4,sheet.max_row + 1 ): # range is n to n-1 \n",
    "    cell = sheet.cell(row,4)\n",
    "    if cell.value != None:\n",
    "        available_row += 1\n",
    "        corrected_price = cell.value * 0.9\n",
    "        corrected_price_cell = sheet.cell(row,5)\n",
    "        corrected_price_cell.value = corrected_price\n",
    "\n"
   ]
  },
  {
   "cell_type": "code",
   "execution_count": 16,
   "metadata": {},
   "outputs": [],
   "source": [
    " values = Reference(sheet,\n",
    "             min_row=4,\n",
    "             max_row=3 + available_row,\n",
    "             min_col=5,\n",
    "             max_col=5\n",
    "             )"
   ]
  },
  {
   "cell_type": "code",
   "execution_count": 17,
   "metadata": {},
   "outputs": [],
   "source": [
    "chart = BarChart()"
   ]
  },
  {
   "cell_type": "code",
   "execution_count": 18,
   "metadata": {},
   "outputs": [],
   "source": [
    "chart.add_data(values)"
   ]
  },
  {
   "cell_type": "code",
   "execution_count": 19,
   "metadata": {},
   "outputs": [],
   "source": [
    "sheet.add_chart(chart,\"B8\")"
   ]
  },
  {
   "cell_type": "code",
   "execution_count": 20,
   "metadata": {},
   "outputs": [],
   "source": [
    "wb.save(\"Transaction2.xlsx\")"
   ]
  },
  {
   "cell_type": "code",
   "execution_count": 14,
   "metadata": {},
   "outputs": [
    {
     "name": "stdout",
     "output_type": "stream",
     "text": [
      "Help on method add_chart in module openpyxl.worksheet.worksheet:\n",
      "\n",
      "add_chart(chart, anchor=None) method of openpyxl.worksheet.worksheet.Worksheet instance\n",
      "    Add a chart to the sheet\n",
      "    Optionally provide a cell for the top-left anchor\n",
      "\n"
     ]
    }
   ],
   "source": [
    "help(sheet.add_chart)"
   ]
  },
  {
   "cell_type": "code",
   "execution_count": 17,
   "metadata": {},
   "outputs": [
    {
     "ename": "TypeError",
     "evalue": "'list' object is not callable",
     "output_type": "error",
     "traceback": [
      "\u001b[1;31m---------------------------------------------------------------------------\u001b[0m",
      "\u001b[1;31mTypeError\u001b[0m                                 Traceback (most recent call last)",
      "\u001b[1;32m<ipython-input-17-643ca94e64ed>\u001b[0m in \u001b[0;36m<module>\u001b[1;34m\u001b[0m\n\u001b[0;32m     21\u001b[0m \u001b[0mseries\u001b[0m \u001b[1;33m=\u001b[0m \u001b[0mSeries\u001b[0m\u001b[1;33m(\u001b[0m\u001b[0mvalues\u001b[0m\u001b[1;33m,\u001b[0m \u001b[0mtitle\u001b[0m \u001b[1;33m=\u001b[0m \u001b[1;34m\"First series of values\"\u001b[0m\u001b[1;33m)\u001b[0m\u001b[1;33m\u001b[0m\u001b[1;33m\u001b[0m\u001b[0m\n\u001b[0;32m     22\u001b[0m \u001b[0mchart\u001b[0m \u001b[1;33m=\u001b[0m \u001b[0mBarChart\u001b[0m\u001b[1;33m(\u001b[0m\u001b[1;33m)\u001b[0m\u001b[1;33m\u001b[0m\u001b[1;33m\u001b[0m\u001b[0m\n\u001b[1;32m---> 23\u001b[1;33m \u001b[0mchart\u001b[0m\u001b[1;33m.\u001b[0m\u001b[0mseries\u001b[0m\u001b[1;33m(\u001b[0m\u001b[0mseries\u001b[0m\u001b[1;33m)\u001b[0m\u001b[1;33m\u001b[0m\u001b[1;33m\u001b[0m\u001b[0m\n\u001b[0m\u001b[0;32m     24\u001b[0m \u001b[0mchart\u001b[0m\u001b[1;33m.\u001b[0m\u001b[0mtitle\u001b[0m \u001b[1;33m=\u001b[0m \u001b[1;34m\" Price table \"\u001b[0m\u001b[1;33m\u001b[0m\u001b[1;33m\u001b[0m\u001b[0m\n\u001b[0;32m     25\u001b[0m \u001b[0msheet\u001b[0m\u001b[1;33m.\u001b[0m\u001b[0madd_chart\u001b[0m\u001b[1;33m(\u001b[0m\u001b[0mchart\u001b[0m\u001b[1;33m,\u001b[0m\u001b[1;34m\"B9\"\u001b[0m\u001b[1;33m)\u001b[0m\u001b[1;33m\u001b[0m\u001b[1;33m\u001b[0m\u001b[0m\n",
      "\u001b[1;31mTypeError\u001b[0m: 'list' object is not callable"
     ]
    }
   ],
   "source": [
    "import openpyxl as xl\n",
    "from openpyxl.chart import BarChart, Reference\n",
    "wb = xl.load_workbook(\"Transaction.xlsx\")\n",
    "sheet = wb[\"Sheet 1\"]\n",
    "available_row = 0\n",
    "sheet.cell(3,5).value = \"Discounted Price\"\n",
    "for row in range (4,sheet.max_row + 1 ): # range is n to n-1 \n",
    "    cell = sheet.cell(row,4)\n",
    "    if cell.value != None:\n",
    "        available_row += 1\n",
    "        corrected_price = cell.value * 0.9\n",
    "        corrected_price_cell = sheet.cell(row,5)\n",
    "        corrected_price_cell.value = corrected_price\n",
    "\n",
    "values = Reference(sheet,\n",
    "             min_row=4,\n",
    "             max_row=3 + available_row,\n",
    "             min_col=4,\n",
    "             max_col=5\n",
    "             )\n",
    "#series = Series(values, title = \"First series of values\")\n",
    "chart = BarChart()\n",
    "#chart.series(series) \n",
    "chart.title = \" Price table \"\n",
    "sheet.add_chart(chart,\"B9\")\n",
    "chart.add_data(values)\n",
    "\n",
    "\n",
    "chart.legend.position = 'r'\n",
    "chart.x_axis.title = \" X_AXIS \"\n",
    "chart.y_axis.title = \" Y_AXIS \"\n",
    "chart.legend.position = \"tr\"\n",
    "\n",
    "#series = Series(values, title = \"First series of values\")\n",
    "#chart.append(series)\n",
    "\n",
    "wb.save(\"Chimiao.xlsx\")\n"
   ]
  },
  {
   "cell_type": "code",
   "execution_count": null,
   "metadata": {},
   "outputs": [],
   "source": []
  },
  {
   "cell_type": "code",
   "execution_count": null,
   "metadata": {},
   "outputs": [],
   "source": []
  },
  {
   "cell_type": "code",
   "execution_count": null,
   "metadata": {},
   "outputs": [],
   "source": []
  },
  {
   "cell_type": "code",
   "execution_count": 23,
   "metadata": {},
   "outputs": [],
   "source": [
    "# import openpyxl module \n",
    "import openpyxl \n",
    "  \n",
    "# import BarChart class from openpyxl.chart sub_module \n",
    "from openpyxl.chart import BarChart,Reference \n",
    "  \n",
    "# Call a Workbook() function of openpyxl  \n",
    "# to create a new blank Workbook object \n",
    "wb = openpyxl.Workbook() \n",
    "  \n",
    "# Get workbook active sheet  \n",
    "# from the active attribute. \n",
    "sheet = wb.active \n",
    "  \n",
    "# write o to 9 in 1st column of the active sheet \n",
    "for i in range(10): \n",
    "    sheet.append([i]) \n",
    "  \n",
    "# create data for plotting \n",
    "values = Reference(sheet, min_col = 1, min_row = 1, \n",
    "                         max_col = 1, max_row = 10) \n",
    "  \n",
    "# Create object of BarChart class \n",
    "chart = BarChart() \n",
    "  \n",
    "# adding data to the Bar chart object \n",
    "chart.add_data(values) \n",
    "  \n",
    "# set the title of the chart \n",
    "chart.title = \" BAR-CHART \"\n",
    "  \n",
    "# set the title of the x-axis \n",
    "chart.x_axis.title = \" X_AXIS \"\n",
    "  \n",
    "# set the title of the y-axis \n",
    "chart.y_axis.title = \" Y_AXIS \"\n",
    "  \n",
    "# add chart to the sheet \n",
    "# the top-left corner of a chart \n",
    "# is anchored to cell E2 . \n",
    "sheet.add_chart(chart, \"E2\") \n",
    "  \n",
    "# save the file \n",
    "wb.save(\"barChart.xlsx\") "
   ]
  },
  {
   "cell_type": "code",
   "execution_count": 20,
   "metadata": {},
   "outputs": [],
   "source": [
    "from openpyxl import Workbook, load_workbook\n",
    "from openpyxl.chart import ScatterChart, Series, Reference\n",
    "from openpyxl.chart.layout import Layout, ManualLayout\n",
    "\n",
    "wb = Workbook()\n",
    "ws = wb.active\n",
    "\n",
    "rows = [\n",
    "    ['Size', 'Batch 1', 'Batch 2'],\n",
    "    [2, 40, 30],\n",
    "    [3, 40, 25],\n",
    "    [4, 50, 30],\n",
    "    [5, 30, 25],\n",
    "    [6, 25, 35],\n",
    "    [7, 20, 40],\n",
    "]\n",
    "\n",
    "for row in rows:\n",
    "    ws.append(row)\n",
    "\n",
    "ch1 = ScatterChart()\n",
    "xvalues = Reference(ws, min_col=1, min_row=2, max_row=7)\n",
    "for i in range(2, 4):\n",
    "    values = Reference(ws, min_col=i, min_row=1, max_row=7)\n",
    "    series = Series(values, xvalues, title_from_data=True)\n",
    "    ch1.series.append(series)\n",
    "\n",
    "\n",
    "ch1.title = \"Default layout\"\n",
    "ch1.style = 13\n",
    "ch1.x_axis.title = 'Size'\n",
    "ch1.y_axis.title = 'Percentage'\n",
    "ch1.legend.position = 'r'\n",
    "\n",
    "ws.add_chart(ch1, \"B10\")\n",
    "\n",
    "from copy import deepcopy\n",
    "\n",
    "# Half-size chart, bottom right\n",
    "ch2 = deepcopy(ch1)\n",
    "ch2.title = \"Manual chart layout\"\n",
    "ch2.legend.position = \"tr\"\n",
    "ch2.layout=Layout(\n",
    "    manualLayout=ManualLayout(\n",
    "        x=0.25, y=0.25,\n",
    "        h=0.5, w=0.5,\n",
    "    )\n",
    ")\n",
    "ws.add_chart(ch2, \"L10\")\n",
    "\n",
    "# Half-size chart, centred\n",
    "ch3 = deepcopy(ch1)\n",
    "ch3.layout = Layout(\n",
    "    ManualLayout(\n",
    "    x=0.25, y=0.25,\n",
    "    h=0.5, w=0.5,\n",
    "    xMode=\"edge\",\n",
    "    yMode=\"edge\",\n",
    "    )\n",
    ")\n",
    "ch3.title = \"Manual chart layout, edge mode\"\n",
    "ws.add_chart(ch3, \"B27\")\n",
    "\n",
    "# Manually position the legend bottom left\n",
    "ch4 = deepcopy(ch1)\n",
    "ch4.title = \"Manual legend layout\"\n",
    "ch4.legend.layout = Layout(\n",
    "    manualLayout=ManualLayout(\n",
    "        yMode='edge',\n",
    "        xMode='edge',\n",
    "        x=0, y=0.9,\n",
    "        h=0.1, w=0.5\n",
    "    )\n",
    ")\n",
    "\n",
    "ws.add_chart(ch4, \"L27\")\n",
    "\n",
    "wb.save(\"chart_layout.xlsx\")"
   ]
  },
  {
   "cell_type": "code",
   "execution_count": null,
   "metadata": {},
   "outputs": [],
   "source": []
  }
 ],
 "metadata": {
  "kernelspec": {
   "display_name": "Python 3",
   "language": "python",
   "name": "python3"
  },
  "language_info": {
   "codemirror_mode": {
    "name": "ipython",
    "version": 3
   },
   "file_extension": ".py",
   "mimetype": "text/x-python",
   "name": "python",
   "nbconvert_exporter": "python",
   "pygments_lexer": "ipython3",
   "version": "3.7.4"
  }
 },
 "nbformat": 4,
 "nbformat_minor": 2
}
